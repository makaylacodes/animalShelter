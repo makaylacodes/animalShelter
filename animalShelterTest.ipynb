{
 "cells": [
  {
   "cell_type": "code",
   "execution_count": 1,
   "id": "72b8cd10-71d2-4372-af0c-263c80cb3368",
   "metadata": {},
   "outputs": [
    {
     "name": "stdout",
     "output_type": "stream",
     "text": [
      "{'_id': ObjectId('6673409bfd59ae94ccdee1f5'), '': 1, 'age_upon_outcome': '3 years', 'animal_id': 'A746874', 'animal_type': 'Cat', 'breed': 'Domestic Shorthair Mix', 'color': 'Black/White', 'date_of_birth': '2014-04-10', 'datetime': '2017-04-11 09:00:00', 'monthyear': '2017-04-11T09:00:00', 'name': '', 'outcome_subtype': 'SCRP', 'outcome_type': 'Transfer', 'sex_upon_outcome': 'Neutered Male', 'location_lat': 30.5066578739455, 'location_long': -97.3408780722188, 'age_upon_outcome_in_weeks': 156.767857142857}\n",
      "\n",
      "\n"
     ]
    }
   ],
   "source": [
    "from animalShelter import AnimalShelter\n",
    "from bson.objectid import ObjectId\n",
    "\n",
    "shelter = AnimalShelter()\n",
    "\n",
    "query = {\"animal_id\": \"A746874\"}\n",
    "\n",
    "result = shelter.read(query)\n",
    "\n",
    "if result:\n",
    "    for item in result:\n",
    "        print(item)\n",
    "        print(\"\\n\")\n",
    "else:\n",
    "    print(\"No documents found.\")"
   ]
  },
  {
   "cell_type": "code",
   "execution_count": 3,
   "id": "2fcba45d",
   "metadata": {
    "scrolled": true
   },
   "outputs": [
    {
     "name": "stdout",
     "output_type": "stream",
     "text": [
      "{'_id': ObjectId('6673409bfd59ae94ccdee428'), '': 563, 'age_upon_outcome': '5 years', 'animal_id': 'A698909', 'animal_type': 'Dog', 'breed': 'Akita Mix', 'color': 'White/Brown', 'date_of_birth': '2011-03-19', 'datetime': '2016-07-26 14:51:00', 'monthyear': '2016-07-26T14:51:00', 'name': 'Panda', 'outcome_subtype': '', 'outcome_type': 'Return to Owner', 'sex_upon_outcome': 'Neutered Male', 'location_lat': 30.347335174924, 'location_long': -97.2527209442642, 'age_upon_outcome_in_weeks': 279.516964285714}\n",
      "\n",
      "\n",
      "{'_id': ObjectId('6673409bfd59ae94ccdee4d8'), '': 740, 'age_upon_outcome': '10 years', 'animal_id': 'A564617', 'animal_type': 'Dog', 'breed': 'Akita Mix', 'color': 'Brown/Black', 'date_of_birth': '2005-01-11', 'datetime': '2015-07-20 15:09:00', 'monthyear': '2015-07-20T15:09:00', 'name': 'Bella', 'outcome_subtype': 'Partner', 'outcome_type': 'Transfer', 'sex_upon_outcome': 'Spayed Female', 'location_lat': 30.6490037556875, 'location_long': -97.5500072068544, 'age_upon_outcome_in_weeks': 548.947321428571}\n",
      "\n",
      "\n",
      "{'_id': ObjectId('6673409bfd59ae94ccdee5b5'), '': 961, 'age_upon_outcome': '2 years', 'animal_id': 'A746658', 'animal_type': 'Dog', 'breed': 'Akita Mix', 'color': 'Red', 'date_of_birth': '2014-10-06', 'datetime': '2017-04-30 16:37:00', 'monthyear': '2017-04-30T16:37:00', 'name': 'Henry', 'outcome_subtype': '', 'outcome_type': 'Adoption', 'sex_upon_outcome': 'Neutered Male', 'location_lat': 30.3363156942325, 'location_long': -97.2815725235944, 'age_upon_outcome_in_weeks': 133.956051587302}\n",
      "\n",
      "\n",
      "{'_id': ObjectId('6673409bfd59ae94ccdeec08'), '': 2580, 'age_upon_outcome': '2 months', 'animal_id': 'A699709', 'animal_type': 'Dog', 'breed': 'Akita Mix', 'color': 'Black/White', 'date_of_birth': '2015-01-17', 'datetime': '2015-04-05 16:42:00', 'monthyear': '2015-04-05T16:42:00', 'name': '', 'outcome_subtype': '', 'outcome_type': 'Adoption', 'sex_upon_outcome': 'Spayed Female', 'location_lat': 30.7136461861979, 'location_long': -97.4953017295785, 'age_upon_outcome_in_weeks': 11.2422619047619}\n",
      "\n",
      "\n",
      "{'_id': ObjectId('6673409cfd59ae94ccdef93e'), '': 5962, 'age_upon_outcome': '7 years', 'animal_id': 'A686584', 'animal_type': 'Dog', 'breed': 'Akita Mix', 'color': 'White/Brown', 'date_of_birth': '2007-02-23', 'datetime': '2014-09-03 11:24:00', 'monthyear': '2014-09-03T11:24:00', 'name': 'Kouga', 'outcome_subtype': '', 'outcome_type': 'Return to Owner', 'sex_upon_outcome': 'Spayed Female', 'location_lat': 30.4678837108314, 'location_long': -97.580514147348, 'age_upon_outcome_in_weeks': 392.782142857143}\n",
      "\n",
      "\n",
      "{'_id': ObjectId('6673409cfd59ae94ccdef9c2'), '': 6095, 'age_upon_outcome': '1 year', 'animal_id': 'A765518', 'animal_type': 'Dog', 'breed': 'Akita Mix', 'color': 'Buff', 'date_of_birth': '2017-01-21', 'datetime': '2018-01-22 17:44:00', 'monthyear': '2018-01-22T17:44:00', 'name': 'Doc', 'outcome_subtype': '', 'outcome_type': 'Return to Owner', 'sex_upon_outcome': 'Intact Male', 'location_lat': 30.3378651011465, 'location_long': -97.5796243307435, 'age_upon_outcome_in_weeks': 52.3912698412698}\n",
      "\n",
      "\n",
      "{'_id': ObjectId('6673409cfd59ae94ccdefbfc'), '': 6664, 'age_upon_outcome': '10 years', 'animal_id': 'A750776', 'animal_type': 'Dog', 'breed': 'Akita Mix', 'color': 'Black/White', 'date_of_birth': '2007-06-01', 'datetime': '2017-06-01 13:28:00', 'monthyear': '2017-06-01T13:28:00', 'name': 'Chase', 'outcome_subtype': '', 'outcome_type': 'Return to Owner', 'sex_upon_outcome': 'Neutered Male', 'location_lat': 30.4508962131278, 'location_long': -97.3930423118235, 'age_upon_outcome_in_weeks': 521.937301587302}\n",
      "\n",
      "\n",
      "{'_id': ObjectId('6673409cfd59ae94ccdefd0c'), '': 6936, 'age_upon_outcome': '2 months', 'animal_id': 'A731109', 'animal_type': 'Dog', 'breed': 'Akita Mix', 'color': 'Black/Tan', 'date_of_birth': '2016-05-16', 'datetime': '2016-07-23 17:37:00', 'monthyear': '2016-07-23T17:37:00', 'name': 'Sammy', 'outcome_subtype': '', 'outcome_type': 'Adoption', 'sex_upon_outcome': 'Spayed Female', 'location_lat': 30.5045689522561, 'location_long': -97.5843078319256, 'age_upon_outcome_in_weeks': 9.81914682539682}\n",
      "\n",
      "\n",
      "{'_id': ObjectId('6673409cfd59ae94ccdf052b'), '': 9015, 'age_upon_outcome': '3 years', 'animal_id': 'A726291', 'animal_type': 'Dog', 'breed': 'Akita Mix', 'color': 'Tan/White', 'date_of_birth': '2012-11-09', 'datetime': '2016-07-31 17:58:00', 'monthyear': '2016-07-31T17:58:00', 'name': '*Joni', 'outcome_subtype': '', 'outcome_type': 'Adoption', 'sex_upon_outcome': 'Spayed Female', 'location_lat': 30.4050322230824, 'location_long': -97.6366424066806, 'age_upon_outcome_in_weeks': 194.392658730159}\n",
      "\n",
      "\n",
      "{'_id': ObjectId('6673409cfd59ae94ccdf076d'), '': 9593, 'age_upon_outcome': '7 years', 'animal_id': 'A570082', 'animal_type': 'Dog', 'breed': 'Akita Mix', 'color': 'Tan/White', 'date_of_birth': '2010-01-23', 'datetime': '2018-01-12 10:45:00', 'monthyear': '2018-01-12T10:45:00', 'name': 'Kelly', 'outcome_subtype': 'Snr', 'outcome_type': 'Transfer', 'sex_upon_outcome': 'Spayed Female', 'location_lat': 30.5757966545825, 'location_long': -97.3205288881576, 'age_upon_outcome_in_weeks': 415.921130952381}\n",
      "\n",
      "\n"
     ]
    }
   ],
   "source": [
    "from animalShelter import AnimalShelter\n",
    "from bson.objectid import ObjectId\n",
    "\n",
    "shelter = AnimalShelter()\n",
    "\n",
    "query = {\"breed\": \"Akita Mix\"}\n",
    "\n",
    "result = shelter.read(query)\n",
    "\n",
    "for item in result:\n",
    "    print(item)\n",
    "    print(\"\\n\")\n",
    "\n"
   ]
  },
  {
   "cell_type": "code",
   "execution_count": 4,
   "id": "2d8e1260",
   "metadata": {
    "scrolled": true
   },
   "outputs": [
    {
     "name": "stdout",
     "output_type": "stream",
     "text": [
      "True\n"
     ]
    }
   ],
   "source": [
    "from animalShelter import AnimalShelter\n",
    "from bson.objectid import ObjectId\n",
    "\n",
    "shelter = AnimalShelter()\n",
    "\n",
    "resultCreate = shelter.create({\n",
    "    \"age_upon_outcome\": \"2 years\", \"animal_id\": \"B709210\",\n",
    "    \"animal_type\": \"Cat\", \"breed\": \"Domestic Shorthair Mix\", \"color\": \"Orange\",\n",
    "    \"date_of_birth\": \"2018-06-13\", \"datetime\": \"2020-06-14\",\n",
    "    \"monthyyear\": \"2020-06-14T09:00:00\", \"name\": \"Sally\",\n",
    "    \"outcome_subtype\": \"SCRP\", \"outcome_type\": \"Transfer\",\n",
    "    \"sex_upon_outcome\": \"Neutered Female\", \"location_lat\": 30.5066578739456,\n",
    "    \"location_long\": -97.3408780722188,\"age_upon_outcome_in_weeks\": 1104.357000000000\n",
    "})\n",
    "\n",
    "    \n",
    "print(resultCreate)   "
   ]
  },
  {
   "cell_type": "code",
   "execution_count": 5,
   "id": "4aa75318",
   "metadata": {},
   "outputs": [
    {
     "name": "stdout",
     "output_type": "stream",
     "text": [
      "{'_id': ObjectId('6673409bfd59ae94ccdee3fc'), '': 520, 'age_upon_outcome': '1 year', 'animal_id': 'A750419', 'animal_type': 'Dog', 'breed': 'Chihuahua Shorthair Mix', 'color': 'Brown/White', 'date_of_birth': '2016-05-27', 'datetime': '2017-05-28 13:06:00', 'monthyear': '2017-05-28T13:06:00', 'name': 'Sally', 'outcome_subtype': '', 'outcome_type': 'Return to Owner', 'sex_upon_outcome': 'Spayed Female', 'location_lat': 30.4447239511302, 'location_long': -97.5360249745797, 'age_upon_outcome_in_weeks': 52.3636904761905}\n",
      "\n",
      "\n",
      "{'_id': ObjectId('6673409cfd59ae94ccdefe21'), '': 7212, 'age_upon_outcome': '3 months', 'animal_id': 'A755239', 'animal_type': 'Dog', 'breed': 'Beagle Mix', 'color': 'White/Black', 'date_of_birth': '2017-06-09', 'datetime': '2017-10-03 13:35:00', 'monthyear': '2017-10-03T13:35:00', 'name': 'Sally', 'outcome_subtype': '', 'outcome_type': 'Adoption', 'sex_upon_outcome': 'Spayed Female', 'location_lat': 30.4854792665653, 'location_long': -97.6539136806999, 'age_upon_outcome_in_weeks': 16.6522817460317}\n",
      "\n",
      "\n",
      "{'_id': ObjectId('6673409cfd59ae94ccdf00aa'), '': 7862, 'age_upon_outcome': '1 year', 'animal_id': 'A719551', 'animal_type': 'Dog', 'breed': 'Treeing Walker Coonhound Mix', 'color': 'Tricolor', 'date_of_birth': '2015-01-22', 'datetime': '2016-01-28 12:19:00', 'monthyear': '2016-01-28T12:19:00', 'name': 'Sally', 'outcome_subtype': 'Partner', 'outcome_type': 'Transfer', 'sex_upon_outcome': 'Intact Female', 'location_lat': 30.4573301032241, 'location_long': -97.6926687574706, 'age_upon_outcome_in_weeks': 53.0733134920635}\n",
      "\n",
      "\n",
      "{'_id': ObjectId('667638335aca4f84153eddc6'), 'age_upon_outcome': '2 years', 'animal_id': 'B709210', 'animal_type': 'Cat', 'breed': 'Domestic Shorthair Mix', 'color': 'Orange', 'date_of_birth': '2018-06-13', 'datetime': '2020-06-14', 'monthyyear': '2020-06-14T09:00:00', 'name': 'Sally', 'outcome_subtype': 'SCRP', 'outcome_type': 'Transfer', 'sex_upon_outcome': 'Neutered Female', 'location_lat': 30.5066578739456, 'location_long': -97.3408780722188, 'age_upon_outcome_in_weeks': 1104.357}\n",
      "\n",
      "\n"
     ]
    }
   ],
   "source": [
    "from animalShelter import AnimalShelter\n",
    "from bson.objectid import ObjectId\n",
    "\n",
    "shelter = AnimalShelter()\n",
    "\n",
    "query = {\"name\": \"Sally\"}\n",
    "\n",
    "result = shelter.read(query)\n",
    "\n",
    "for item in result:\n",
    "    print(item)\n",
    "    print(\"\\n\")"
   ]
  },
  {
   "cell_type": "code",
   "execution_count": 6,
   "id": "89b2e0e1",
   "metadata": {},
   "outputs": [
    {
     "name": "stdout",
     "output_type": "stream",
     "text": [
      "1\n"
     ]
    }
   ],
   "source": [
    "from animalShelter import AnimalShelter\n",
    "from bson.objectid import ObjectId\n",
    "\n",
    "shelter = AnimalShelter()\n",
    "\n",
    "query = {\"name\": \"Sally\"}  # Example query to match documents with the name \"Sally\"\n",
    "update_data = {\"breed\": \"Persian\"}  # Update the breed field to \"Persian\"\n",
    "modified_count = shelter.update(query, update_data)\n",
    "print(modified_count)"
   ]
  },
  {
   "cell_type": "code",
   "execution_count": 7,
   "id": "88c12024",
   "metadata": {},
   "outputs": [
    {
     "name": "stdout",
     "output_type": "stream",
     "text": [
      "1\n"
     ]
    }
   ],
   "source": [
    "from animalShelter import AnimalShelter\n",
    "from bson.objectid import ObjectId\n",
    "\n",
    "shelter = AnimalShelter()\n",
    "\n",
    "query = {\"name\": \"Sally\"}  # Example query to match documents with the name \"Sally\"\n",
    "deleted_count = shelter.delete(query)\n",
    "print(deleted_count)"
   ]
  },
  {
   "cell_type": "code",
   "execution_count": null,
   "id": "9f932fe5",
   "metadata": {},
   "outputs": [],
   "source": []
  }
 ],
 "metadata": {
  "kernelspec": {
   "display_name": "Python 3 (ipykernel)",
   "language": "python",
   "name": "python3"
  },
  "language_info": {
   "codemirror_mode": {
    "name": "ipython",
    "version": 3
   },
   "file_extension": ".py",
   "mimetype": "text/x-python",
   "name": "python",
   "nbconvert_exporter": "python",
   "pygments_lexer": "ipython3",
   "version": "3.12.4"
  }
 },
 "nbformat": 4,
 "nbformat_minor": 5
}
